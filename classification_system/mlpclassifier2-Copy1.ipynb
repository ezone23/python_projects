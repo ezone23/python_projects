{
 "cells": [
  {
   "cell_type": "code",
   "execution_count": 121,
   "id": "817bcc20",
   "metadata": {},
   "outputs": [],
   "source": [
    "import pandas as pd\n",
    "from sklearn.neural_network import MLPClassifier\n",
    "from sklearn.model_selection import train_test_split\n",
    "from sklearn.preprocessing import StandardScaler\n",
    "df = pd.read_excel(\"wireless_mlpclassifier.xlsx\")\n",
    "X = df.iloc[:,0:6]\n",
    "y = df['wish device']"
   ]
  },
  {
   "cell_type": "code",
   "execution_count": 122,
   "id": "ec923254",
   "metadata": {},
   "outputs": [],
   "source": [
    "X_train_all,X_test, y_train_all, y_test = \\\n",
    "train_test_split(X,y,stratify = y, test_size = 0.2, random_state = 42)"
   ]
  },
  {
   "cell_type": "code",
   "execution_count": 123,
   "id": "af8df62d",
   "metadata": {},
   "outputs": [],
   "source": [
    "X_train, X_val, y_train, y_val = \\\n",
    "  train_test_split(X_train_all,y_train_all,stratify=y_train_all, \\\n",
    "                   test_size=0.2,random_state=42)"
   ]
  },
  {
   "cell_type": "code",
   "execution_count": 124,
   "id": "355a1d06",
   "metadata": {},
   "outputs": [],
   "source": [
    "scaler = StandardScaler()"
   ]
  },
  {
   "cell_type": "code",
   "execution_count": 125,
   "id": "fe0063e1",
   "metadata": {},
   "outputs": [
    {
     "data": {
      "text/plain": [
       "StandardScaler()"
      ]
     },
     "execution_count": 125,
     "metadata": {},
     "output_type": "execute_result"
    }
   ],
   "source": [
    "scaler.fit(X_train)"
   ]
  },
  {
   "cell_type": "code",
   "execution_count": 126,
   "id": "833cb943",
   "metadata": {},
   "outputs": [],
   "source": [
    "X_train_scaled = scaler.transform(X_train)"
   ]
  },
  {
   "cell_type": "code",
   "execution_count": 127,
   "id": "caca05f9",
   "metadata": {},
   "outputs": [],
   "source": [
    "X_val_scaled = scaler.transform(X_val)"
   ]
  },
  {
   "cell_type": "code",
   "execution_count": 128,
   "id": "cd0e8896",
   "metadata": {},
   "outputs": [
    {
     "name": "stderr",
     "output_type": "stream",
     "text": [
      "C:\\Users\\jiwon\\anaconda3\\lib\\site-packages\\sklearn\\neural_network\\_multilayer_perceptron.py:542: UserWarning: Got `batch_size` less than 1 or larger than sample size. It is going to be clipped\n",
      "  warnings.warn(\"Got `batch_size` less than 1 or larger than \"\n"
     ]
    },
    {
     "data": {
      "text/plain": [
       "0.21428571428571427"
      ]
     },
     "execution_count": 128,
     "metadata": {},
     "output_type": "execute_result"
    }
   ],
   "source": [
    "mlp2 = MLPClassifier(hidden_layer_sizes = (6,), \\\n",
    "                  solver = 'sgd', alpha = 0.01, batch_size = 200, \\\n",
    "                  learning_rate_init = 0.1, max_iter = 500)\n",
    "mlp2.fit(X_train_scaled, y_train)\n",
    "mlp2.score(X_val_scaled, y_val)"
   ]
  }
 ],
 "metadata": {
  "kernelspec": {
   "display_name": "Python 3",
   "language": "python",
   "name": "python3"
  },
  "language_info": {
   "codemirror_mode": {
    "name": "ipython",
    "version": 3
   },
   "file_extension": ".py",
   "mimetype": "text/x-python",
   "name": "python",
   "nbconvert_exporter": "python",
   "pygments_lexer": "ipython3",
   "version": "3.8.8"
  }
 },
 "nbformat": 4,
 "nbformat_minor": 5
}
