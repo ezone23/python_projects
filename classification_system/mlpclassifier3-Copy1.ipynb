{
 "cells": [
  {
   "cell_type": "code",
   "execution_count": 35,
   "id": "817bcc20",
   "metadata": {},
   "outputs": [],
   "source": [
    "import pandas as pd\n",
    "from sklearn.neural_network import MLPClassifier\n",
    "from sklearn.model_selection import train_test_split\n",
    "from sklearn.preprocessing import StandardScaler\n",
    "from sklearn.metrics import confusion_matrix"
   ]
  },
  {
   "cell_type": "code",
   "execution_count": 36,
   "id": "454e6c25",
   "metadata": {},
   "outputs": [
    {
     "data": {
      "text/html": [
       "<div>\n",
       "<style scoped>\n",
       "    .dataframe tbody tr th:only-of-type {\n",
       "        vertical-align: middle;\n",
       "    }\n",
       "\n",
       "    .dataframe tbody tr th {\n",
       "        vertical-align: top;\n",
       "    }\n",
       "\n",
       "    .dataframe thead th {\n",
       "        text-align: right;\n",
       "    }\n",
       "</style>\n",
       "<table border=\"1\" class=\"dataframe\">\n",
       "  <thead>\n",
       "    <tr style=\"text-align: right;\">\n",
       "      <th></th>\n",
       "      <th>[Low price (낮은 가격)]</th>\n",
       "      <th>[Noise cancelling (노이즈 캔슬링)]</th>\n",
       "      <th>[Battery time (배터리 시간)]</th>\n",
       "      <th>[Light weight (가벼운 무게)]</th>\n",
       "      <th>[Brand (브랜드)]</th>\n",
       "      <th>[Sound Quality (음질)]</th>\n",
       "      <th>wish device</th>\n",
       "    </tr>\n",
       "  </thead>\n",
       "  <tbody>\n",
       "    <tr>\n",
       "      <th>0</th>\n",
       "      <td>1</td>\n",
       "      <td>4</td>\n",
       "      <td>3</td>\n",
       "      <td>5</td>\n",
       "      <td>6</td>\n",
       "      <td>2</td>\n",
       "      <td>1</td>\n",
       "    </tr>\n",
       "    <tr>\n",
       "      <th>1</th>\n",
       "      <td>3</td>\n",
       "      <td>5</td>\n",
       "      <td>4</td>\n",
       "      <td>6</td>\n",
       "      <td>2</td>\n",
       "      <td>1</td>\n",
       "      <td>2</td>\n",
       "    </tr>\n",
       "    <tr>\n",
       "      <th>2</th>\n",
       "      <td>4</td>\n",
       "      <td>3</td>\n",
       "      <td>5</td>\n",
       "      <td>6</td>\n",
       "      <td>2</td>\n",
       "      <td>1</td>\n",
       "      <td>2</td>\n",
       "    </tr>\n",
       "    <tr>\n",
       "      <th>3</th>\n",
       "      <td>3</td>\n",
       "      <td>4</td>\n",
       "      <td>6</td>\n",
       "      <td>5</td>\n",
       "      <td>1</td>\n",
       "      <td>2</td>\n",
       "      <td>2</td>\n",
       "    </tr>\n",
       "    <tr>\n",
       "      <th>4</th>\n",
       "      <td>4</td>\n",
       "      <td>5</td>\n",
       "      <td>2</td>\n",
       "      <td>1</td>\n",
       "      <td>6</td>\n",
       "      <td>3</td>\n",
       "      <td>1</td>\n",
       "    </tr>\n",
       "    <tr>\n",
       "      <th>...</th>\n",
       "      <td>...</td>\n",
       "      <td>...</td>\n",
       "      <td>...</td>\n",
       "      <td>...</td>\n",
       "      <td>...</td>\n",
       "      <td>...</td>\n",
       "      <td>...</td>\n",
       "    </tr>\n",
       "    <tr>\n",
       "      <th>81</th>\n",
       "      <td>3</td>\n",
       "      <td>4</td>\n",
       "      <td>2</td>\n",
       "      <td>5</td>\n",
       "      <td>6</td>\n",
       "      <td>1</td>\n",
       "      <td>2</td>\n",
       "    </tr>\n",
       "    <tr>\n",
       "      <th>82</th>\n",
       "      <td>6</td>\n",
       "      <td>3</td>\n",
       "      <td>1</td>\n",
       "      <td>4</td>\n",
       "      <td>5</td>\n",
       "      <td>2</td>\n",
       "      <td>4</td>\n",
       "    </tr>\n",
       "    <tr>\n",
       "      <th>83</th>\n",
       "      <td>5</td>\n",
       "      <td>6</td>\n",
       "      <td>1</td>\n",
       "      <td>2</td>\n",
       "      <td>4</td>\n",
       "      <td>3</td>\n",
       "      <td>4</td>\n",
       "    </tr>\n",
       "    <tr>\n",
       "      <th>84</th>\n",
       "      <td>4</td>\n",
       "      <td>6</td>\n",
       "      <td>3</td>\n",
       "      <td>5</td>\n",
       "      <td>1</td>\n",
       "      <td>2</td>\n",
       "      <td>3</td>\n",
       "    </tr>\n",
       "    <tr>\n",
       "      <th>85</th>\n",
       "      <td>6</td>\n",
       "      <td>2</td>\n",
       "      <td>3</td>\n",
       "      <td>5</td>\n",
       "      <td>1</td>\n",
       "      <td>4</td>\n",
       "      <td>1</td>\n",
       "    </tr>\n",
       "  </tbody>\n",
       "</table>\n",
       "<p>86 rows × 7 columns</p>\n",
       "</div>"
      ],
      "text/plain": [
       "    [Low price (낮은 가격)]  [Noise cancelling (노이즈 캔슬링)]  \\\n",
       "0                     1                             4   \n",
       "1                     3                             5   \n",
       "2                     4                             3   \n",
       "3                     3                             4   \n",
       "4                     4                             5   \n",
       "..                  ...                           ...   \n",
       "81                    3                             4   \n",
       "82                    6                             3   \n",
       "83                    5                             6   \n",
       "84                    4                             6   \n",
       "85                    6                             2   \n",
       "\n",
       "    [Battery time (배터리 시간)]  [Light weight (가벼운 무게)]  [Brand (브랜드)]  \\\n",
       "0                         3                        5              6   \n",
       "1                         4                        6              2   \n",
       "2                         5                        6              2   \n",
       "3                         6                        5              1   \n",
       "4                         2                        1              6   \n",
       "..                      ...                      ...            ...   \n",
       "81                        2                        5              6   \n",
       "82                        1                        4              5   \n",
       "83                        1                        2              4   \n",
       "84                        3                        5              1   \n",
       "85                        3                        5              1   \n",
       "\n",
       "    [Sound Quality (음질)]  wish device  \n",
       "0                      2            1  \n",
       "1                      1            2  \n",
       "2                      1            2  \n",
       "3                      2            2  \n",
       "4                      3            1  \n",
       "..                   ...          ...  \n",
       "81                     1            2  \n",
       "82                     2            4  \n",
       "83                     3            4  \n",
       "84                     2            3  \n",
       "85                     4            1  \n",
       "\n",
       "[86 rows x 7 columns]"
      ]
     },
     "execution_count": 36,
     "metadata": {},
     "output_type": "execute_result"
    }
   ],
   "source": [
    "df = pd.read_excel(\"wireless_mlpclassifier.xlsx\")\n",
    "data = df.iloc[:, 0:7]\n",
    "data"
   ]
  },
  {
   "cell_type": "code",
   "execution_count": 37,
   "id": "c05e9acb",
   "metadata": {},
   "outputs": [],
   "source": [
    "training_set, validation_set = train_test_split(data, test_size = 0.2, random_state = 21)"
   ]
  },
  {
   "cell_type": "code",
   "execution_count": 38,
   "id": "be9e554f",
   "metadata": {},
   "outputs": [],
   "source": [
    "X_train = training_set.iloc[:,0:6].values\n",
    "y_train = training_set.iloc[:, -1].values\n",
    "X_val = validation_set.iloc[:,0:6].values\n",
    "y_val = validation_set.iloc[:, -1].values"
   ]
  },
  {
   "cell_type": "code",
   "execution_count": 39,
   "id": "dd225811",
   "metadata": {},
   "outputs": [],
   "source": [
    "def accuracy(confusion_matrix):\n",
    "    diagonal_sum = confusion_matrix.trace()\n",
    "    sum_of_all_elements = confusion_matrix.sum()\n",
    "    return diagonal_sum/sum_of_all_elements"
   ]
  },
  {
   "cell_type": "code",
   "execution_count": 40,
   "id": "c7eb8cf1",
   "metadata": {},
   "outputs": [
    {
     "data": {
      "text/plain": [
       "'hidden_layer_sizes = (150,100,50),                           \\n    >> 이거 없애면 accuracy = 0.2777777777777778'"
      ]
     },
     "execution_count": 40,
     "metadata": {},
     "output_type": "execute_result"
    }
   ],
   "source": [
    "classifier = MLPClassifier(max_iter= 300,solver = 'adam', random_state = 1)\n",
    "'''hidden_layer_sizes = (150,100,50),\\\n",
    "                           \n",
    "    >> 이거 없애면 accuracy = 0.2777777777777778'''"
   ]
  },
  {
   "cell_type": "code",
   "execution_count": 41,
   "id": "03bdd267",
   "metadata": {},
   "outputs": [
    {
     "name": "stderr",
     "output_type": "stream",
     "text": [
      "C:\\Users\\jiwon\\anaconda3\\lib\\site-packages\\sklearn\\neural_network\\_multilayer_perceptron.py:614: ConvergenceWarning: Stochastic Optimizer: Maximum iterations (300) reached and the optimization hasn't converged yet.\n",
      "  warnings.warn(\n"
     ]
    },
    {
     "data": {
      "text/plain": [
       "MLPClassifier(max_iter=300, random_state=1)"
      ]
     },
     "execution_count": 41,
     "metadata": {},
     "output_type": "execute_result"
    }
   ],
   "source": [
    "classifier.fit(X_train, y_train)"
   ]
  },
  {
   "cell_type": "code",
   "execution_count": 42,
   "id": "88afb68b",
   "metadata": {},
   "outputs": [],
   "source": [
    "y_pred = classifier.predict(X_val)"
   ]
  },
  {
   "cell_type": "code",
   "execution_count": 43,
   "id": "9fcf88da",
   "metadata": {},
   "outputs": [],
   "source": [
    "cm = confusion_matrix(y_pred, y_val)"
   ]
  },
  {
   "cell_type": "code",
   "execution_count": 44,
   "id": "534cf61d",
   "metadata": {},
   "outputs": [
    {
     "data": {
      "text/plain": [
       "0.3333333333333333"
      ]
     },
     "execution_count": 44,
     "metadata": {},
     "output_type": "execute_result"
    }
   ],
   "source": [
    "accuracy(cm)"
   ]
  },
  {
   "cell_type": "markdown",
   "id": "db531b57",
   "metadata": {},
   "source": [
    "scaler 없애면 accuracy 0.2777777777777778\n",
    "\n",
    "hidden layer도 디폴트면 0.3333333333333333\n",
    "\n",
    "다른것들은 디폴트로 돌려도 정확도 변화 없음."
   ]
  }
 ],
 "metadata": {
  "kernelspec": {
   "display_name": "Python 3",
   "language": "python",
   "name": "python3"
  },
  "language_info": {
   "codemirror_mode": {
    "name": "ipython",
    "version": 3
   },
   "file_extension": ".py",
   "mimetype": "text/x-python",
   "name": "python",
   "nbconvert_exporter": "python",
   "pygments_lexer": "ipython3",
   "version": "3.8.8"
  }
 },
 "nbformat": 4,
 "nbformat_minor": 5
}
