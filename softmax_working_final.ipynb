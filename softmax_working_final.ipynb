{
 "cells": [
  {
   "cell_type": "markdown",
   "id": "0b424544",
   "metadata": {},
   "source": [
    "# 돌아감 정확도 33%\n"
   ]
  },
  {
   "cell_type": "code",
   "execution_count": 1,
   "id": "2d263f64",
   "metadata": {},
   "outputs": [],
   "source": [
    "import pandas as pd\n",
    "import seaborn as sns\n",
    "import matplotlib.pyplot as plt\n",
    "from sklearn.model_selection import train_test_split\n",
    "from tensorflow.keras.utils import to_categorical"
   ]
  },
  {
   "cell_type": "code",
   "execution_count": 2,
   "id": "cd1f1387",
   "metadata": {
    "scrolled": true
   },
   "outputs": [
    {
     "data": {
      "text/html": [
       "<div>\n",
       "<style scoped>\n",
       "    .dataframe tbody tr th:only-of-type {\n",
       "        vertical-align: middle;\n",
       "    }\n",
       "\n",
       "    .dataframe tbody tr th {\n",
       "        vertical-align: top;\n",
       "    }\n",
       "\n",
       "    .dataframe thead th {\n",
       "        text-align: right;\n",
       "    }\n",
       "</style>\n",
       "<table border=\"1\" class=\"dataframe\">\n",
       "  <thead>\n",
       "    <tr style=\"text-align: right;\">\n",
       "      <th></th>\n",
       "      <th>userid</th>\n",
       "      <th>Low price</th>\n",
       "      <th>Noise cancelling</th>\n",
       "      <th>Battery time</th>\n",
       "      <th>Light weight</th>\n",
       "      <th>Brand</th>\n",
       "      <th>Sound Quality</th>\n",
       "      <th>wish device</th>\n",
       "    </tr>\n",
       "  </thead>\n",
       "  <tbody>\n",
       "    <tr>\n",
       "      <th>0</th>\n",
       "      <td>1</td>\n",
       "      <td>1</td>\n",
       "      <td>4</td>\n",
       "      <td>3</td>\n",
       "      <td>5</td>\n",
       "      <td>6</td>\n",
       "      <td>2</td>\n",
       "      <td>Airpod pro</td>\n",
       "    </tr>\n",
       "    <tr>\n",
       "      <th>1</th>\n",
       "      <td>2</td>\n",
       "      <td>3</td>\n",
       "      <td>5</td>\n",
       "      <td>4</td>\n",
       "      <td>6</td>\n",
       "      <td>2</td>\n",
       "      <td>1</td>\n",
       "      <td>Buds pro</td>\n",
       "    </tr>\n",
       "    <tr>\n",
       "      <th>2</th>\n",
       "      <td>3</td>\n",
       "      <td>4</td>\n",
       "      <td>3</td>\n",
       "      <td>5</td>\n",
       "      <td>6</td>\n",
       "      <td>2</td>\n",
       "      <td>1</td>\n",
       "      <td>Buds pro</td>\n",
       "    </tr>\n",
       "    <tr>\n",
       "      <th>3</th>\n",
       "      <td>4</td>\n",
       "      <td>3</td>\n",
       "      <td>4</td>\n",
       "      <td>6</td>\n",
       "      <td>5</td>\n",
       "      <td>1</td>\n",
       "      <td>2</td>\n",
       "      <td>Buds pro</td>\n",
       "    </tr>\n",
       "    <tr>\n",
       "      <th>4</th>\n",
       "      <td>5</td>\n",
       "      <td>4</td>\n",
       "      <td>5</td>\n",
       "      <td>2</td>\n",
       "      <td>1</td>\n",
       "      <td>6</td>\n",
       "      <td>3</td>\n",
       "      <td>Airpod pro</td>\n",
       "    </tr>\n",
       "  </tbody>\n",
       "</table>\n",
       "</div>"
      ],
      "text/plain": [
       "   userid  Low price  Noise cancelling  Battery time  Light weight  Brand  \\\n",
       "0       1          1                 4             3             5      6   \n",
       "1       2          3                 5             4             6      2   \n",
       "2       3          4                 3             5             6      2   \n",
       "3       4          3                 4             6             5      1   \n",
       "4       5          4                 5             2             1      6   \n",
       "\n",
       "   Sound Quality wish device  \n",
       "0              2  Airpod pro  \n",
       "1              1    Buds pro  \n",
       "2              1    Buds pro  \n",
       "3              2    Buds pro  \n",
       "4              3  Airpod pro  "
      ]
     },
     "execution_count": 2,
     "metadata": {},
     "output_type": "execute_result"
    }
   ],
   "source": [
    "data = pd.read_excel('wireless_softmax.xlsx')\n",
    "data = data.iloc[:,0:8]\n",
    "data.head()"
   ]
  },
  {
   "cell_type": "code",
   "execution_count": 3,
   "id": "ef59a43e",
   "metadata": {},
   "outputs": [],
   "source": [
    "#sns.set(style = 'ticks', color_codes = True)\n",
    "#g = sns.pairplot(data , hue = 'wish device', palette = 'husl')"
   ]
  },
  {
   "cell_type": "code",
   "execution_count": 4,
   "id": "31b078f1",
   "metadata": {},
   "outputs": [],
   "source": [
    "#sns.barplot(data['wish device'], data['Low price'], ci = None)"
   ]
  },
  {
   "cell_type": "code",
   "execution_count": 5,
   "id": "cf17770c",
   "metadata": {},
   "outputs": [],
   "source": [
    "#data['wish device'].value_counts().plot(kind = 'bar')"
   ]
  },
  {
   "cell_type": "code",
   "execution_count": 6,
   "id": "6515486f",
   "metadata": {},
   "outputs": [],
   "source": [
    "data['wish device'] = data['wish device'].\\\n",
    "replace(['Airpod pro','Buds pro', 'Airpod 3','SONY WF-1000XM4', 'Airpod 2', 'QCY T13', 'Buds 2' ],\\\n",
    "        [0,1,2,3,4,5,6])\n",
    "#data['wish device'].value_counts().plot(kind = 'bar')"
   ]
  },
  {
   "cell_type": "markdown",
   "id": "e564fdf1",
   "metadata": {},
   "source": [
    "y_test나 y_train에 7이 없으면 6개로만 나옴.\n"
   ]
  },
  {
   "cell_type": "code",
   "execution_count": 7,
   "id": "2930e5be",
   "metadata": {},
   "outputs": [
    {
     "name": "stdout",
     "output_type": "stream",
     "text": [
      "[[1 4 3 5 6 2]\n",
      " [3 5 4 6 2 1]\n",
      " [4 3 5 6 2 1]\n",
      " [3 4 6 5 1 2]\n",
      " [4 5 2 1 6 3]]\n",
      "[0 1 1 1 0]\n"
     ]
    }
   ],
   "source": [
    "data_X = data.iloc[:,1:7].values\n",
    "data_y = data['wish device'].values\n",
    "print(data_X[:5])\n",
    "print(data_y[:5])"
   ]
  },
  {
   "cell_type": "code",
   "execution_count": 8,
   "id": "48753ca5",
   "metadata": {},
   "outputs": [],
   "source": [
    "(X_train, X_test, y_train, y_test) = train_test_split(data_X, data_y, train_size=0.8, random_state=1)"
   ]
  },
  {
   "cell_type": "code",
   "execution_count": 9,
   "id": "1f084097",
   "metadata": {},
   "outputs": [
    {
     "name": "stdout",
     "output_type": "stream",
     "text": [
      "[[0. 0. 0. 0. 0. 0. 1.]\n",
      " [1. 0. 0. 0. 0. 0. 0.]]\n",
      "[[0. 0. 1. 0. 0. 0. 0.]\n",
      " [1. 0. 0. 0. 0. 0. 0.]]\n"
     ]
    }
   ],
   "source": [
    "y_train = to_categorical(y_train, num_classes = 7)\n",
    "y_test = to_categorical(y_test, num_classes = 7)\n",
    "print(y_train[:2])\n",
    "print(y_test[:2])\n"
   ]
  },
  {
   "cell_type": "code",
   "execution_count": 10,
   "id": "6116ed9e",
   "metadata": {},
   "outputs": [],
   "source": [
    "from tensorflow.keras.models import Sequential\n",
    "from tensorflow.keras.layers import Dense"
   ]
  },
  {
   "cell_type": "code",
   "execution_count": 11,
   "id": "75567900",
   "metadata": {},
   "outputs": [],
   "source": [
    "model = Sequential()\n",
    "model.add(Dense(7, input_dim=6, activation='softmax'))"
   ]
  },
  {
   "cell_type": "code",
   "execution_count": 12,
   "id": "f60b1eb8",
   "metadata": {},
   "outputs": [],
   "source": [
    "#model.compile(loss='categorical_crossentropy', optimizer='adam', metrics=['accuracy'])\n",
    "model.compile(loss='categorical_crossentropy', optimizer='adam', metrics=['accuracy'])"
   ]
  },
  {
   "cell_type": "code",
   "execution_count": 13,
   "id": "7b1a0766",
   "metadata": {
    "scrolled": true
   },
   "outputs": [
    {
     "name": "stdout",
     "output_type": "stream",
     "text": [
      "Epoch 1/50\n",
      "68/68 [==============================] - 1s 4ms/step - loss: 2.6792 - accuracy: 0.2206 - val_loss: 2.6445 - val_accuracy: 0.1667\n",
      "Epoch 2/50\n",
      "68/68 [==============================] - 0s 2ms/step - loss: 2.5456 - accuracy: 0.2647 - val_loss: 2.6365 - val_accuracy: 0.2222\n",
      "Epoch 3/50\n",
      "68/68 [==============================] - 0s 2ms/step - loss: 2.4651 - accuracy: 0.2500 - val_loss: 2.6039 - val_accuracy: 0.2222\n",
      "Epoch 4/50\n",
      "68/68 [==============================] - ETA: 0s - loss: 2.4269 - accuracy: 0.1915   - 0s 2ms/step - loss: 2.4201 - accuracy: 0.2500 - val_loss: 2.5845 - val_accuracy: 0.3333\n",
      "Epoch 5/50\n",
      "68/68 [==============================] - 0s 2ms/step - loss: 2.3709 - accuracy: 0.2500 - val_loss: 2.5532 - val_accuracy: 0.3333\n",
      "Epoch 6/50\n",
      "68/68 [==============================] - ETA: 0s - loss: 2.2904 - accuracy: 0.2727   - 0s 2ms/step - loss: 2.3419 - accuracy: 0.2500 - val_loss: 2.5254 - val_accuracy: 0.3333\n",
      "Epoch 7/50\n",
      "68/68 [==============================] - 0s 2ms/step - loss: 2.3037 - accuracy: 0.2794 - val_loss: 2.5017 - val_accuracy: 0.2778\n",
      "Epoch 8/50\n",
      "68/68 [==============================] - 0s 2ms/step - loss: 2.2705 - accuracy: 0.2794 - val_loss: 2.4746 - val_accuracy: 0.3333\n",
      "Epoch 9/50\n",
      "68/68 [==============================] - 0s 2ms/step - loss: 2.2507 - accuracy: 0.3088 - val_loss: 2.4634 - val_accuracy: 0.3333\n",
      "Epoch 10/50\n",
      "68/68 [==============================] - 0s 2ms/step - loss: 2.2306 - accuracy: 0.2794 - val_loss: 2.4112 - val_accuracy: 0.3333\n",
      "Epoch 11/50\n",
      "68/68 [==============================] - ETA: 0s - loss: 2.4888 - accuracy: 0.2444   - 0s 2ms/step - loss: 2.2028 - accuracy: 0.3088 - val_loss: 2.4081 - val_accuracy: 0.3333\n",
      "Epoch 12/50\n",
      "68/68 [==============================] - 0s 2ms/step - loss: 2.1809 - accuracy: 0.3235 - val_loss: 2.3769 - val_accuracy: 0.3333\n",
      "Epoch 13/50\n",
      "68/68 [==============================] - 0s 2ms/step - loss: 2.1574 - accuracy: 0.3382 - val_loss: 2.3584 - val_accuracy: 0.3333\n",
      "Epoch 14/50\n",
      "68/68 [==============================] - 0s 2ms/step - loss: 2.1368 - accuracy: 0.3235 - val_loss: 2.3505 - val_accuracy: 0.3333\n",
      "Epoch 15/50\n",
      "68/68 [==============================] - 0s 2ms/step - loss: 2.1157 - accuracy: 0.3382 - val_loss: 2.3112 - val_accuracy: 0.3333\n",
      "Epoch 16/50\n",
      "68/68 [==============================] - 0s 2ms/step - loss: 2.0966 - accuracy: 0.3529 - val_loss: 2.2877 - val_accuracy: 0.3333\n",
      "Epoch 17/50\n",
      "68/68 [==============================] - 0s 2ms/step - loss: 2.0904 - accuracy: 0.2941 - val_loss: 2.2669 - val_accuracy: 0.3333\n",
      "Epoch 18/50\n",
      "68/68 [==============================] - 0s 2ms/step - loss: 2.0615 - accuracy: 0.3382 - val_loss: 2.2498 - val_accuracy: 0.3333\n",
      "Epoch 19/50\n",
      "68/68 [==============================] - 0s 2ms/step - loss: 2.0434 - accuracy: 0.3529 - val_loss: 2.2224 - val_accuracy: 0.3333\n",
      "Epoch 20/50\n",
      "68/68 [==============================] - 0s 2ms/step - loss: 2.0250 - accuracy: 0.3235 - val_loss: 2.2076 - val_accuracy: 0.3333\n",
      "Epoch 21/50\n",
      "68/68 [==============================] - 0s 2ms/step - loss: 2.0152 - accuracy: 0.3382 - val_loss: 2.1741 - val_accuracy: 0.3333\n",
      "Epoch 22/50\n",
      "68/68 [==============================] - 0s 2ms/step - loss: 1.9998 - accuracy: 0.3235 - val_loss: 2.1691 - val_accuracy: 0.3333\n",
      "Epoch 23/50\n",
      "68/68 [==============================] - 0s 2ms/step - loss: 1.9825 - accuracy: 0.3382 - val_loss: 2.1457 - val_accuracy: 0.3333\n",
      "Epoch 24/50\n",
      "68/68 [==============================] - 0s 1ms/step - loss: 1.9657 - accuracy: 0.3235 - val_loss: 2.1273 - val_accuracy: 0.3333\n",
      "Epoch 25/50\n",
      "68/68 [==============================] - 0s 2ms/step - loss: 1.9530 - accuracy: 0.3382 - val_loss: 2.1110 - val_accuracy: 0.3333\n",
      "Epoch 26/50\n",
      "68/68 [==============================] - 0s 2ms/step - loss: 1.9335 - accuracy: 0.3382 - val_loss: 2.0957 - val_accuracy: 0.3333\n",
      "Epoch 27/50\n",
      "68/68 [==============================] - 0s 2ms/step - loss: 1.9170 - accuracy: 0.3235 - val_loss: 2.0863 - val_accuracy: 0.3333\n",
      "Epoch 28/50\n",
      "68/68 [==============================] - 0s 2ms/step - loss: 1.9062 - accuracy: 0.3382 - val_loss: 2.0613 - val_accuracy: 0.3333\n",
      "Epoch 29/50\n",
      "68/68 [==============================] - 0s 2ms/step - loss: 1.8965 - accuracy: 0.3235 - val_loss: 2.0389 - val_accuracy: 0.3333\n",
      "Epoch 30/50\n",
      "68/68 [==============================] - 0s 2ms/step - loss: 1.8803 - accuracy: 0.3529 - val_loss: 2.0271 - val_accuracy: 0.3889\n",
      "Epoch 31/50\n",
      "68/68 [==============================] - 0s 2ms/step - loss: 1.8677 - accuracy: 0.3529 - val_loss: 1.9994 - val_accuracy: 0.3889\n",
      "Epoch 32/50\n",
      "68/68 [==============================] - 0s 2ms/step - loss: 1.8518 - accuracy: 0.3676 - val_loss: 1.9967 - val_accuracy: 0.3889\n",
      "Epoch 33/50\n",
      "68/68 [==============================] - 0s 2ms/step - loss: 1.8402 - accuracy: 0.3382 - val_loss: 1.9781 - val_accuracy: 0.3889\n",
      "Epoch 34/50\n",
      "68/68 [==============================] - 0s 2ms/step - loss: 1.8295 - accuracy: 0.3676 - val_loss: 1.9628 - val_accuracy: 0.3889\n",
      "Epoch 35/50\n",
      "68/68 [==============================] - 0s 2ms/step - loss: 1.8177 - accuracy: 0.3676 - val_loss: 1.9521 - val_accuracy: 0.3889\n",
      "Epoch 36/50\n",
      "68/68 [==============================] - 0s 2ms/step - loss: 1.8033 - accuracy: 0.3676 - val_loss: 1.9334 - val_accuracy: 0.3889\n",
      "Epoch 37/50\n",
      "68/68 [==============================] - 0s 2ms/step - loss: 1.7929 - accuracy: 0.3676 - val_loss: 1.9151 - val_accuracy: 0.3333\n",
      "Epoch 38/50\n",
      "68/68 [==============================] - 0s 2ms/step - loss: 1.7781 - accuracy: 0.3676 - val_loss: 1.8930 - val_accuracy: 0.3889\n",
      "Epoch 39/50\n",
      "68/68 [==============================] - 0s 2ms/step - loss: 1.7750 - accuracy: 0.3676 - val_loss: 1.8897 - val_accuracy: 0.3333\n",
      "Epoch 40/50\n",
      "68/68 [==============================] - 0s 2ms/step - loss: 1.7601 - accuracy: 0.3676 - val_loss: 1.8646 - val_accuracy: 0.3889\n",
      "Epoch 41/50\n",
      "68/68 [==============================] - 0s 2ms/step - loss: 1.7548 - accuracy: 0.3529 - val_loss: 1.8749 - val_accuracy: 0.3889\n",
      "Epoch 42/50\n",
      "68/68 [==============================] - 0s 2ms/step - loss: 1.7404 - accuracy: 0.3971 - val_loss: 1.8567 - val_accuracy: 0.4444\n",
      "Epoch 43/50\n",
      "68/68 [==============================] - 0s 2ms/step - loss: 1.7333 - accuracy: 0.3676 - val_loss: 1.8391 - val_accuracy: 0.3889\n",
      "Epoch 44/50\n",
      "68/68 [==============================] - 0s 2ms/step - loss: 1.7254 - accuracy: 0.3971 - val_loss: 1.8192 - val_accuracy: 0.3333\n",
      "Epoch 45/50\n",
      "68/68 [==============================] - 0s 2ms/step - loss: 1.7156 - accuracy: 0.3824 - val_loss: 1.7976 - val_accuracy: 0.3333\n",
      "Epoch 46/50\n",
      "68/68 [==============================] - 0s 2ms/step - loss: 1.7017 - accuracy: 0.3824 - val_loss: 1.8112 - val_accuracy: 0.3889\n",
      "Epoch 47/50\n",
      "68/68 [==============================] - 0s 2ms/step - loss: 1.6909 - accuracy: 0.3824 - val_loss: 1.7897 - val_accuracy: 0.3889\n",
      "Epoch 48/50\n",
      "68/68 [==============================] - 0s 2ms/step - loss: 1.6858 - accuracy: 0.4118 - val_loss: 1.7706 - val_accuracy: 0.4444\n",
      "Epoch 49/50\n",
      "68/68 [==============================] - 0s 2ms/step - loss: 1.6743 - accuracy: 0.3971 - val_loss: 1.7697 - val_accuracy: 0.3889\n",
      "Epoch 50/50\n",
      "68/68 [==============================] - 0s 2ms/step - loss: 1.6753 - accuracy: 0.3971 - val_loss: 1.7591 - val_accuracy: 0.3889\n"
     ]
    }
   ],
   "source": [
    "history = model.fit(X_train, y_train, epochs=50, batch_size=1, validation_data=(X_test, y_test))\n",
    "#history = model.fit(X_train, y_train, epochs=400, batch_size=4, validation_data=(X_test, y_test))"
   ]
  },
  {
   "cell_type": "code",
   "execution_count": 14,
   "id": "8b055240",
   "metadata": {
    "scrolled": false
   },
   "outputs": [
    {
     "data": {
      "image/png": "[encoded data removed]",
      "text/plain": [
       "<Figure size 432x288 with 1 Axes>"
      ]
     },
     "metadata": {
      "needs_background": "light"
     },
     "output_type": "display_data"
    }
   ],
   "source": [
    "epochs = range(1, len(history.history['accuracy']) + 1)\n",
    "plt.plot(epochs, history.history['loss'])\n",
    "plt.plot(epochs, history.history['val_loss'])\n",
    "plt.title('model loss')\n",
    "plt.ylabel('loss')\n",
    "plt.xlabel('epoch')\n",
    "plt.legend(['train', 'val'], loc='upper left')\n",
    "plt.show()\n"
   ]
  },
  {
   "cell_type": "code",
   "execution_count": 15,
   "id": "7883e937",
   "metadata": {},
   "outputs": [
    {
     "name": "stdout",
     "output_type": "stream",
     "text": [
      "1/1 [==============================] - 0s 128ms/step - loss: 1.7591 - accuracy: 0.3889\n"
     ]
    },
    {
     "data": {
      "text/plain": [
       "0.3888888955116272"
      ]
     },
     "execution_count": 15,
     "metadata": {},
     "output_type": "execute_result"
    }
   ],
   "source": [
    "model.evaluate(X_test, y_test)[1]"
   ]
  },
  {
   "cell_type": "code",
   "execution_count": null,
   "id": "5a9235e6",
   "metadata": {},
   "outputs": [],
   "source": []
  },
  {
   "cell_type": "code",
   "execution_count": null,
   "id": "33be8d5f",
   "metadata": {},
   "outputs": [],
   "source": []
  }
 ],
 "metadata": {
  "kernelspec": {
   "display_name": "Python 3 (ipykernel)",
   "language": "python",
   "name": "python3"
  },
  "language_info": {
   "codemirror_mode": {
    "name": "ipython",
    "version": 3
   },
   "file_extension": ".py",
   "mimetype": "text/x-python",
   "name": "python",
   "nbconvert_exporter": "python",
   "pygments_lexer": "ipython3",
   "version": "3.8.8"
  }
 },
 "nbformat": 4,
 "nbformat_minor": 5
}
